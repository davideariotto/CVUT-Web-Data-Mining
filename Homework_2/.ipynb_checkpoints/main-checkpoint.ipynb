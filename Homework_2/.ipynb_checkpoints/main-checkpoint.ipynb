{
 "cells": [
  {
   "cell_type": "code",
   "execution_count": 2,
   "metadata": {},
   "outputs": [],
   "source": [
    "import pandas as pd\n",
    "import nltk\n",
    "from collections import Counter\n",
    "import string\n",
    "import wikipedia\n",
    "import pipeline"
   ]
  },
  {
   "attachments": {},
   "cell_type": "markdown",
   "metadata": {},
   "source": [
    "## Data Pre-Processing"
   ]
  },
  {
   "cell_type": "code",
   "execution_count": 4,
   "metadata": {},
   "outputs": [
    {
     "ename": "",
     "evalue": "",
     "output_type": "error",
     "traceback": [
      "\u001b[1;31mThe Kernel crashed while executing code in the the current cell or a previous cell. Please review the code in the cell(s) to identify a possible cause of the failure. Click <a href='https://aka.ms/vscodeJupyterKernelCrash'>here</a> for more info. View Jupyter <a href='command:jupyter.viewOutput'>log</a> for further details."
     ]
    },
    {
     "ename": "",
     "evalue": "",
     "output_type": "error",
     "traceback": [
      "\u001b[1;31mCanceled future for execute_request message before replies were done"
     ]
    }
   ],
   "source": [
    "text = \"\"\n",
    "with open('text.txt', 'r') as file:\n",
    "    lines = file.readlines()\n",
    "for line in lines:\n",
    "    if 'J.K. Rowling' in line or line.isupper():\n",
    "        continue\n",
    "    else:\n",
    "        text = text.join(line)\n",
    "print(text)\n",
    "# Delete all of the \"Capitol 1: .....\""
   ]
  },
  {
   "attachments": {},
   "cell_type": "markdown",
   "metadata": {},
   "source": [
    "## POS Tagging"
   ]
  },
  {
   "cell_type": "code",
   "execution_count": null,
   "metadata": {},
   "outputs": [],
   "source": [
    "\n",
    "text = None\n",
    "with open('text.txt', 'r') as file:\n",
    "    text = file.read()\n",
    "tokens = nltk.word_tokenize(text)\n",
    "pos = nltk.pos_tag(tokens)\n",
    "\n",
    "count = Counter(pos)\n",
    "sort_pos = sorted(count.items(), key=lambda count:count[1], reverse=True)\n",
    "print('POS Top 10')\n",
    "print(sort_pos[:10])\n",
    "print()\n",
    "\n",
    "filtered_tokens = [token for token in tokens \n",
    "                       if token not in string.punctuation \n",
    "                       if token not in nltk.corpus.stopwords.words('english')]\n",
    "tagged = nltk.pos_tag(filtered_tokens)\n",
    "\n",
    "count = Counter(tagged)\n",
    "sort_tagged = sorted(count.items(), key=lambda count:count[1], reverse=True)\n",
    "print('POS Top 10 filtered')\n",
    "print(sort_tagged[:10])"
   ]
  },
  {
   "attachments": {},
   "cell_type": "markdown",
   "metadata": {},
   "source": [
    "## NER with entity classification (using nltk.ne_chunk)"
   ]
  },
  {
   "cell_type": "code",
   "execution_count": null,
   "metadata": {},
   "outputs": [],
   "source": [
    "text = None\n",
    "with open('reviews.txt', 'r') as file:\n",
    "    text = file.read()\n",
    "    \n",
    "tokens = nltk.word_tokenize(text)\n",
    "tagged = nltk.pos_tag(tokens)\n",
    "\n",
    "ne_chunked = nltk.ne_chunk(tagged)\n",
    "ner = {}\n",
    "for entity in ne_chunked:\n",
    "    if isinstance(entity, nltk.tree.Tree):\n",
    "        text = \" \".join([word for word, tag in entity.leaves()])\n",
    "        ent = entity.label()\n",
    "        ner[text] = ent\n",
    "    else:\n",
    "        continue\n",
    "\n",
    "sort_ner = sorted(ner.items(), key=lambda entity: entity[1][1], reverse=True)\n",
    "print('NER Top 20')\n",
    "print(sort_ner[:20])"
   ]
  },
  {
   "attachments": {},
   "cell_type": "markdown",
   "metadata": {},
   "source": [
    "## NER with custom patterns"
   ]
  },
  {
   "cell_type": "code",
   "execution_count": null,
   "metadata": {},
   "outputs": [],
   "source": [
    "text = None\n",
    "with open('reviews.txt', 'r') as file:\n",
    "    text = file.read()\n",
    "    \n",
    "tokens = nltk.word_tokenize(text)\n",
    "tagged = nltk.pos_tag(tokens)\n",
    "entity = []\n",
    "custom_ner = []\n",
    "for tagged_entry in tagged:\n",
    "    if(tagged_entry[1].startswith(\"NN\") or (entity and tagged_entry[1].startswith(\"IN\"))):\n",
    "        entity.append(tagged_entry)\n",
    "    else:\n",
    "        if(entity) and entity[-1][1].startswith(\"IN\"):\n",
    "            entity.pop()\n",
    "        if(entity and \" \".join(e[0] for e in entity)[0].isupper()):\n",
    "            custom_ner.append(\" \".join(e[0] for e in entity))\n",
    "        entity = []\n",
    "count = Counter(custom_ner)\n",
    "sort_custom_ner = sorted(count.items(), key=lambda count:count[1], reverse=True)\n",
    "print('Custom NER Top 20')\n",
    "print(sort_custom_ner[:20])"
   ]
  },
  {
   "attachments": {},
   "cell_type": "markdown",
   "metadata": {},
   "source": [
    "## Custom entity classification"
   ]
  },
  {
   "cell_type": "code",
   "execution_count": null,
   "metadata": {},
   "outputs": [],
   "source": [
    "def wiki(name):\n",
    "    try:\n",
    "        page = wikipedia.page(name)\n",
    "        summary = page.summary\n",
    "    except:\n",
    "        return \"\"\n",
    "    return nltk.sent_tokenize(summary)[0]\n",
    "\n",
    "def wikidescription(name):\n",
    "    sent = wiki(name)\n",
    "    if sent == \"\":\n",
    "        return \"a Thing\"\n",
    "    \n",
    "    text_pos = nltk.pos_tag(nltk.word_tokenize(sent))\n",
    "    \n",
    "    grammar = \"NP: {<DT>?<JJ>*<NN|NNS>}\"\n",
    "    cp = nltk.RegexpParser(grammar)\n",
    "    result = cp.parse(text_pos)\n",
    "    data = {}\n",
    "    for entity in result:\n",
    "        if isinstance(entity, nltk.tree.Tree):\n",
    "            text = \" \".join([word for word, tag in entity.leaves()])\n",
    "            ent = entity.label()\n",
    "            data[text] = ent\n",
    "        else:\n",
    "            continue\n",
    "    str = \"\"\n",
    "    for data in data:\n",
    "        str+=data\n",
    "        if (str[-1] != ' '):\n",
    "            str += ' '\n",
    "    return str\n",
    "    "
   ]
  },
  {
   "cell_type": "code",
   "execution_count": null,
   "metadata": {},
   "outputs": [],
   "source": [
    "c = 0\n",
    "for i in sort_ner:\n",
    "    print(i[0], ' - ', wikidescription(i[0]))\n",
    "    c+= 1\n",
    "    if c == 20:\n",
    "        break"
   ]
  },
  {
   "cell_type": "code",
   "execution_count": null,
   "metadata": {},
   "outputs": [],
   "source": [
    "c = 0\n",
    "for i in sort_custom_ner:\n",
    "    print(i[0], ' - ', wikidescription(i[0]))\n",
    "    c+= 1\n",
    "    if c == 20:\n",
    "        break"
   ]
  },
  {
   "cell_type": "code",
   "execution_count": null,
   "metadata": {},
   "outputs": [],
   "source": [
    "tokenizer = AutoTokenizer.from_pretrained(\"dslim/bert-base-NER\")\n",
    "model = AutoModelForTokenClassification.from_pretrained(\"dslim/bert-base-NER\")\n",
    "\n",
    "nlp = pipeline(\"ner\", model=model, tokenizer=tokenizer)\n",
    "text = None\n",
    "with open('reviews.txt', 'r') as file:\n",
    "    text = file.read()\n",
    "\n",
    "ner_results = nlp(text)\n",
    "print(ner_results)"
   ]
  }
 ],
 "metadata": {
  "kernelspec": {
   "display_name": "base",
   "language": "python",
   "name": "python3"
  },
  "language_info": {
   "codemirror_mode": {
    "name": "ipython",
    "version": 3
   },
   "file_extension": ".py",
   "mimetype": "text/x-python",
   "name": "python",
   "nbconvert_exporter": "python",
   "pygments_lexer": "ipython3",
   "version": "3.11.2"
  },
  "orig_nbformat": 4
 },
 "nbformat": 4,
 "nbformat_minor": 2
}
